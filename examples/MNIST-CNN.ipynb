{
 "cells": [
  {
   "cell_type": "markdown",
   "metadata": {},
   "source": [
    "# Training on MNIST with XABY with Convolutions\n",
    "\n",
    "This notebook demonstrates how to train a convolutional network on MNIST with the XABY framework.\n",
    "\n",
    "I'm going to use torchvision to load in the MNIST data, because it's super great."
   ]
  },
  {
   "cell_type": "code",
   "execution_count": null,
   "metadata": {},
   "outputs": [],
   "source": [
    "import time\n",
    "import xaby\n",
    "import xaby.nn.functional as xf\n",
    "\n",
    "import jax\n",
    "import jax.numpy as np\n",
    "\n",
    "# For loading MNIST data\n",
    "import torch\n",
    "from torchvision import transforms, datasets"
   ]
  },
  {
   "cell_type": "code",
   "execution_count": null,
   "metadata": {},
   "outputs": [],
   "source": [
    "transform = transforms.Compose([\n",
    "    transforms.ToTensor(),\n",
    "    transforms.Normalize((0.1307,), (0.3081,))\n",
    "])\n",
    "\n",
    "mnist_train = datasets.MNIST(\"~/.pytorch\", train=True, transform=transform, download=True)\n",
    "mnist_test = datasets.MNIST(\"~/.pytorch\", train=False, transform=transform, download=True)\n",
    "\n",
    "train_loader = torch.utils.data.DataLoader(mnist_train, batch_size=64, shuffle=True, num_workers=2)\n",
    "test_loader = torch.utils.data.DataLoader(mnist_test, batch_size=64, num_workers=2)"
   ]
  },
  {
   "cell_type": "markdown",
   "metadata": {},
   "source": [
    "## Train a convolutional model\n",
    "\n",
    "Below I'll define a convolutional network and train it on the MNIST dataset."
   ]
  },
  {
   "cell_type": "code",
   "execution_count": 7,
   "metadata": {},
   "outputs": [
    {
     "name": "stdout",
     "output_type": "stream",
     "text": [
      "Epoch: 1/2  Train loss: 2.248  Test loss: 2.262  Test acc.: 0.175  Images/sec: 1004.998\n",
      "Epoch: 1/2  Train loss: 2.223  Test loss: 2.194  Test acc.: 0.522  Images/sec: 2194.561\n",
      "Epoch: 1/2  Train loss: 2.042  Test loss: 2.046  Test acc.: 0.663  Images/sec: 2387.174\n",
      "Epoch: 1/2  Train loss: 1.728  Test loss: 1.708  Test acc.: 0.730  Images/sec: 2011.710\n",
      "Epoch: 1/2  Train loss: 1.166  Test loss: 1.157  Test acc.: 0.789  Images/sec: 2442.315\n",
      "Epoch: 1/2  Train loss: 0.790  Test loss: 0.767  Test acc.: 0.831  Images/sec: 2132.453\n",
      "Epoch: 1/2  Train loss: 0.389  Test loss: 0.591  Test acc.: 0.858  Images/sec: 1997.072\n",
      "Epoch: 1/2  Train loss: 0.634  Test loss: 0.509  Test acc.: 0.868  Images/sec: 2300.078\n",
      "Epoch: 1/2  Train loss: 0.420  Test loss: 0.456  Test acc.: 0.879  Images/sec: 2172.295\n",
      "Epoch: 2/2  Train loss: 0.520  Test loss: 0.421  Test acc.: 0.887  Images/sec: 1108.372\n",
      "Epoch: 2/2  Train loss: 0.314  Test loss: 0.402  Test acc.: 0.888  Images/sec: 2206.709\n",
      "Epoch: 2/2  Train loss: 0.505  Test loss: 0.388  Test acc.: 0.892  Images/sec: 1820.860\n",
      "Epoch: 2/2  Train loss: 0.409  Test loss: 0.380  Test acc.: 0.891  Images/sec: 2042.662\n",
      "Epoch: 2/2  Train loss: 0.193  Test loss: 0.361  Test acc.: 0.899  Images/sec: 2251.164\n",
      "Epoch: 2/2  Train loss: 0.371  Test loss: 0.352  Test acc.: 0.901  Images/sec: 2159.841\n",
      "Epoch: 2/2  Train loss: 0.426  Test loss: 0.345  Test acc.: 0.903  Images/sec: 2125.260\n",
      "Epoch: 2/2  Train loss: 0.258  Test loss: 0.338  Test acc.: 0.904  Images/sec: 2162.303\n",
      "Epoch: 2/2  Train loss: 0.408  Test loss: 0.336  Test acc.: 0.904  Images/sec: 2312.554\n"
     ]
    }
   ],
   "source": [
    "### Define a model\n",
    "conv1 = xf.conv2d(1, 32, 3, 2, 1) >> xf.relu\n",
    "conv2 = xf.conv2d(32, 64, 3, 2, 1) >> xf.relu\n",
    "fc = xf.linear(3136, 128) >> xf.relu\n",
    "classifier = xf.linear(128, 10) >> xf.log_softmax\n",
    "\n",
    "model = conv1 >> conv2 >> xf.flatten >> fc >> classifier\n",
    "\n",
    "# Model with backpropagation\n",
    "backprop = model << xf.nlloss\n",
    "\n",
    "# Update function\n",
    "update = xaby.optim.sgd(model, lr=0.003)\n",
    "\n",
    "step = 0\n",
    "start = time.time()\n",
    "epochs = 2\n",
    "batch_size = train_loader.batch_size\n",
    "print_every = 100\n",
    "for e in range(epochs):\n",
    "    for images, labels in train_loader:\n",
    "        step += 1\n",
    "        inputs, targets = xaby.tensor(images), xaby.tensor(labels)\n",
    "        \n",
    "        train_loss, grads = backprop(inputs, targets)\n",
    "        grads >> update\n",
    "\n",
    "        if step % print_every == 0:\n",
    "            stop = time.time()\n",
    "            test_losses = []\n",
    "            test_accuracy = []\n",
    "            for images, labels in test_loader:\n",
    "                inputs, targets = xaby.tensor(images), xaby.tensor(labels)\n",
    "\n",
    "                log_p = inputs >> model\n",
    "                loss = log_p >> xf.nlloss << targets\n",
    "                accuracy = xaby.metrics.accuracy(log_p, targets)\n",
    "\n",
    "                test_losses.append(loss.numpy())\n",
    "                test_accuracy.append(accuracy)\n",
    "\n",
    "            print(f\"Epoch: {e+1}/{epochs}  \"\n",
    "                  f\"Train loss: {train_loss:.3f}  \"\n",
    "                  f\"Test loss: {sum(test_losses)/len(test_losses):.3f}  \"\n",
    "                  f\"Test acc.: {sum(test_accuracy)/len(test_accuracy):.3f}  \"\n",
    "                  f\"Images/sec: {print_every*batch_size/(stop - start):.3f}\")\n",
    "            \n",
    "            start = time.time()"
   ]
  }
 ],
 "metadata": {
  "kernelspec": {
   "display_name": "Python 3",
   "language": "python",
   "name": "python3"
  },
  "language_info": {
   "codemirror_mode": {
    "name": "ipython",
    "version": 3
   },
   "file_extension": ".py",
   "mimetype": "text/x-python",
   "name": "python",
   "nbconvert_exporter": "python",
   "pygments_lexer": "ipython3",
   "version": "3.6.9"
  }
 },
 "nbformat": 4,
 "nbformat_minor": 4
}
