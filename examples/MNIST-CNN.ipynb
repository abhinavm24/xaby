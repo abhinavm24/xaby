{
 "cells": [
  {
   "cell_type": "markdown",
   "metadata": {},
   "source": [
    "# Training on MNIST with XABY with Convolutions\n",
    "\n",
    "This notebook demonstrates how to train a convolutional network on MNIST with the XABY framework.\n",
    "\n",
    "I'm going to use torchvision to load in the MNIST data, because it's super great."
   ]
  },
  {
   "cell_type": "code",
   "execution_count": 1,
   "metadata": {},
   "outputs": [
    {
     "name": "stderr",
     "output_type": "stream",
     "text": [
      "/Users/mat/miniconda3/envs/xaby/lib/python3.6/site-packages/jax/lib/xla_bridge.py:120: UserWarning: No GPU/TPU found, falling back to CPU.\n",
      "  warnings.warn('No GPU/TPU found, falling back to CPU.')\n"
     ]
    }
   ],
   "source": [
    "import time\n",
    "import xaby as xb\n",
    "import xaby.nn as xn\n",
    "\n",
    "import jax\n",
    "import jax.numpy as np\n",
    "\n",
    "# For loading MNIST data\n",
    "import torch\n",
    "from torchvision import transforms, datasets"
   ]
  },
  {
   "cell_type": "code",
   "execution_count": 3,
   "metadata": {},
   "outputs": [],
   "source": [
    "transform = transforms.Compose([\n",
    "    transforms.ToTensor(),\n",
    "    transforms.Normalize((0.1307,), (0.3081,))\n",
    "])\n",
    "\n",
    "mnist_train = datasets.MNIST(\"~/.pytorch\", train=True, transform=transform, download=True)\n",
    "mnist_test = datasets.MNIST(\"~/.pytorch\", train=False, transform=transform, download=True)\n",
    "\n",
    "train_loader = torch.utils.data.DataLoader(mnist_train, batch_size=64, shuffle=True, num_workers=2)\n",
    "test_loader = torch.utils.data.DataLoader(mnist_test, batch_size=64, num_workers=2)"
   ]
  },
  {
   "cell_type": "markdown",
   "metadata": {},
   "source": [
    "## Train a convolutional model\n",
    "\n",
    "Below I'll define a convolutional network and train it on the MNIST dataset."
   ]
  },
  {
   "cell_type": "code",
   "execution_count": 8,
   "metadata": {},
   "outputs": [
    {
     "name": "stdout",
     "output_type": "stream",
     "text": [
      "Epoch: 1/2  Train loss: 2.238  Test loss: 2.222  Test acc.: 0.481  Images/sec: 762.972\n",
      "Epoch: 1/2  Train loss: 2.085  Test loss: 2.084  Test acc.: 0.658  Images/sec: 1616.803\n",
      "Epoch: 1/2  Train loss: 1.806  Test loss: 1.758  Test acc.: 0.712  Images/sec: 1552.074\n",
      "Epoch: 1/2  Train loss: 1.270  Test loss: 1.193  Test acc.: 0.800  Images/sec: 1380.925\n",
      "Epoch: 1/2  Train loss: 0.909  Test loss: 0.765  Test acc.: 0.839  Images/sec: 1163.274\n",
      "Epoch: 1/2  Train loss: 0.501  Test loss: 0.572  Test acc.: 0.870  Images/sec: 1209.064\n",
      "Epoch: 1/2  Train loss: 0.686  Test loss: 0.482  Test acc.: 0.878  Images/sec: 1215.050\n",
      "Epoch: 1/2  Train loss: 0.485  Test loss: 0.438  Test acc.: 0.881  Images/sec: 1448.099\n",
      "Epoch: 1/2  Train loss: 0.458  Test loss: 0.406  Test acc.: 0.892  Images/sec: 1148.984\n",
      "Epoch: 2/2  Train loss: 0.416  Test loss: 0.386  Test acc.: 0.893  Images/sec: 694.396\n",
      "Epoch: 2/2  Train loss: 0.328  Test loss: 0.373  Test acc.: 0.895  Images/sec: 1291.712\n",
      "Epoch: 2/2  Train loss: 0.502  Test loss: 0.357  Test acc.: 0.897  Images/sec: 1284.474\n",
      "Epoch: 2/2  Train loss: 0.328  Test loss: 0.353  Test acc.: 0.899  Images/sec: 1356.397\n",
      "Epoch: 2/2  Train loss: 0.505  Test loss: 0.340  Test acc.: 0.899  Images/sec: 1488.769\n",
      "Epoch: 2/2  Train loss: 0.458  Test loss: 0.333  Test acc.: 0.902  Images/sec: 1581.731\n",
      "Epoch: 2/2  Train loss: 0.308  Test loss: 0.328  Test acc.: 0.902  Images/sec: 1273.871\n",
      "Epoch: 2/2  Train loss: 0.246  Test loss: 0.319  Test acc.: 0.907  Images/sec: 1417.790\n",
      "Epoch: 2/2  Train loss: 0.347  Test loss: 0.315  Test acc.: 0.910  Images/sec: 1382.781\n"
     ]
    }
   ],
   "source": [
    "### Define a model\n",
    "conv1 = xn.conv2d(1, 32, 3, 2, 1) >> xn.relu\n",
    "conv2 = xn.conv2d(32, 64, 3, 2, 1) >> xn.relu\n",
    "fc = xn.linear(3136, 128) >> xn.relu\n",
    "classifier = xn.linear(128, 10) >> xn.log_softmax\n",
    "\n",
    "model = conv1 >> conv2 >> xb.flatten >> fc >> classifier\n",
    "\n",
    "# Model with backpropagation\n",
    "backprop = model << xn.nlloss\n",
    "\n",
    "# Update function\n",
    "update = xb.optim.sgd(model, lr=0.003)\n",
    "\n",
    "step = 0\n",
    "start = time.time()\n",
    "epochs = 2\n",
    "batch_size = train_loader.batch_size\n",
    "print_every = 100\n",
    "for e in range(epochs):\n",
    "    for images, labels in train_loader:\n",
    "        step += 1\n",
    "        inputs, targets = xb.tensor(images), xb.tensor(labels)\n",
    "        \n",
    "        train_loss, grads = backprop(inputs, targets)\n",
    "        grads >> update\n",
    "\n",
    "        if step % print_every == 0:\n",
    "            stop = time.time()\n",
    "            test_losses = []\n",
    "            test_accuracy = []\n",
    "            for images, labels in test_loader:\n",
    "                inputs, targets = xb.tensor(images), xb.tensor(labels)\n",
    "\n",
    "                log_p = inputs >> model\n",
    "                loss = log_p >> xn.nlloss << targets\n",
    "                accuracy = xb.metrics.accuracy(log_p, targets)\n",
    "\n",
    "                test_losses.append(loss.numpy())\n",
    "                test_accuracy.append(accuracy)\n",
    "\n",
    "            print(f\"Epoch: {e+1}/{epochs}  \"\n",
    "                  f\"Train loss: {train_loss:.3f}  \"\n",
    "                  f\"Test loss: {sum(test_losses)/len(test_losses):.3f}  \"\n",
    "                  f\"Test acc.: {sum(test_accuracy)/len(test_accuracy):.3f}  \"\n",
    "                  f\"Images/sec: {print_every*batch_size/(stop - start):.3f}\")\n",
    "            \n",
    "            start = time.time()"
   ]
  },
  {
   "cell_type": "code",
   "execution_count": null,
   "metadata": {},
   "outputs": [],
   "source": []
  }
 ],
 "metadata": {
  "kernelspec": {
   "display_name": "Python 3",
   "language": "python",
   "name": "python3"
  },
  "language_info": {
   "codemirror_mode": {
    "name": "ipython",
    "version": 3
   },
   "file_extension": ".py",
   "mimetype": "text/x-python",
   "name": "python",
   "nbconvert_exporter": "python",
   "pygments_lexer": "ipython3",
   "version": "3.6.9"
  }
 },
 "nbformat": 4,
 "nbformat_minor": 4
}
